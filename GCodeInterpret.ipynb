{
 "cells": [
  {
   "cell_type": "code",
   "execution_count": 1,
   "metadata": {},
   "outputs": [
    {
     "ename": "ModuleNotFoundError",
     "evalue": "No module named 'matlab'",
     "output_type": "error",
     "traceback": [
      "\u001b[1;31m---------------------------------------------------------------------------\u001b[0m",
      "\u001b[1;31mModuleNotFoundError\u001b[0m                       Traceback (most recent call last)",
      "\u001b[1;32m<ipython-input-1-85f9091a8ce2>\u001b[0m in \u001b[0;36m<module>\u001b[1;34m\u001b[0m\n\u001b[1;32m----> 1\u001b[1;33m \u001b[1;32mimport\u001b[0m \u001b[0mmatlab\u001b[0m\u001b[1;33m.\u001b[0m\u001b[0mengine\u001b[0m\u001b[1;33m\u001b[0m\u001b[1;33m\u001b[0m\u001b[0m\n\u001b[0m\u001b[0;32m      2\u001b[0m \u001b[0meng\u001b[0m \u001b[1;33m=\u001b[0m \u001b[0mmatlab\u001b[0m\u001b[1;33m.\u001b[0m\u001b[0mengine\u001b[0m\u001b[1;33m.\u001b[0m\u001b[0mstart_matlab\u001b[0m\u001b[1;33m(\u001b[0m\u001b[1;33m)\u001b[0m\u001b[1;33m\u001b[0m\u001b[1;33m\u001b[0m\u001b[0m\n\u001b[0;32m      3\u001b[0m \u001b[0meng\u001b[0m\u001b[1;33m.\u001b[0m\u001b[0msim\u001b[0m\u001b[1;33m(\u001b[0m\u001b[1;34m\"vdp\"\u001b[0m\u001b[1;33m)\u001b[0m\u001b[1;33m\u001b[0m\u001b[1;33m\u001b[0m\u001b[0m\n",
      "\u001b[1;31mModuleNotFoundError\u001b[0m: No module named 'matlab'"
     ]
    }
   ],
   "source": [
    "import matlab.engine\n",
    "eng = matlab.engine.start_matlab()\n",
    "eng.sim(\"vdp\")"
   ]
  },
  {
   "cell_type": "code",
   "execution_count": 26,
   "metadata": {},
   "outputs": [],
   "source": [
    "import os.path\n",
    "# import matlab.engine\n",
    "\n",
    "def read_gCode():\n",
    "    commandList = []\n",
    "    \n",
    "    fileName = input(\"File name (must be in current directory): \")\n",
    "    file = open(os.path.join(os.getcwd(), fileName), 'r')\n",
    "    text = file.readlines()\n",
    "    file.close()\n",
    "\n",
    "    for x in text:      \n",
    "        xSplit = x.split(\" \")\n",
    "        if ((\"1\" not in xSplit[0]) and (\"2\" not in xSplit[0])) or ((len(xSplit) > 5) or (len(xSplit) < 4)):\n",
    "            continue\n",
    "    \n",
    "        command = \"\"\n",
    "        tool = \"\"\n",
    "        if \"1\" in xSplit[0]:   # Initialize move\n",
    "            command = \"move\"\n",
    "            if \"1\" in xSplit[1]:   # Initialize tool to Clearing\n",
    "                tool = \"clear\"\n",
    "            elif \"2\" in xSplit[1]:   # Initialize tool to Blunt\n",
    "                tool = \"blunt\"\n",
    "            elif \"3\" in xSplit[1]:   # Initialize tool to Fine Tipped\n",
    "                tool = \"point\"\n",
    "            elif \"4\" in xSplit[1]:   # Initialize tool to Rake\n",
    "                tool = \"rake\"\n",
    "            else:\n",
    "                print(\"Error, tool does not exist!\")\n",
    "        else:   # Initialize draw   \n",
    "            command = \"draw\"\n",
    "            \n",
    "        \n",
    "        # Initilaize X Position\n",
    "        xPos = float(xSplit[-3]) * 0.01\n",
    "        # Initilaize Y Position\n",
    "        yPos = float(xSplit[-2]) * 0.01\n",
    "        # Initilaize Angle\n",
    "        angle = int(xSplit[-1])\n",
    "        \n",
    "        if command == \"move\":\n",
    "            commandList.append([command, tool, xPos, yPos, angle])\n",
    "        else:\n",
    "            commandList.append([command, xPos, yPos, angle])\n",
    "            \n",
    "    print(commandList)\n",
    "    execute_command(commandList)\n",
    "    \n",
    "def execute_command(commandList):\n",
    "    \n",
    "    \n",
    "    for command in commandList:\n",
    "        \n",
    "\n",
    "# def simulink():\n",
    "#     eng = matlab.engine.start_matlab()\n",
    "#     eng.sim(\"vdp\")"
   ]
  },
  {
   "cell_type": "code",
   "execution_count": 27,
   "metadata": {},
   "outputs": [
    {
     "name": "stdout",
     "output_type": "stream",
     "text": [
      "What is the file name? GCodeTestFile.txt\n",
      "[['move', 'clear', 2.95, 0.0, 0], ['draw', 2.95, 0.0, 365], ['move', 'rake', -3.54, 2.5, 0], ['draw', 3.54, 2.5, 0], ['move', 'point', -5.0, 0.0, 0], ['draw', 5.0, 0.0, 0], ['move', 'blunt', -3.54, -2.5, 0], ['draw', 3.54, -2.5, 0], ['move', 'rake', 0.0, 5.0, 0], ['draw', 0.0, 5.0, 120], ['move', 'point', 0.0, 5.0, 120], ['draw', 0.0, 5.0, 120], ['move', 'blunt', 0.0, 5.0, 120], ['draw', 0.0, 5.0, 120]]\n"
     ]
    }
   ],
   "source": [
    "my_function()"
   ]
  },
  {
   "cell_type": "code",
   "execution_count": null,
   "metadata": {},
   "outputs": [],
   "source": []
  }
 ],
 "metadata": {
  "kernelspec": {
   "display_name": "Python 3",
   "language": "python",
   "name": "python3"
  },
  "language_info": {
   "codemirror_mode": {
    "name": "ipython",
    "version": 3
   },
   "file_extension": ".py",
   "mimetype": "text/x-python",
   "name": "python",
   "nbconvert_exporter": "python",
   "pygments_lexer": "ipython3",
   "version": "3.7.1"
  }
 },
 "nbformat": 4,
 "nbformat_minor": 2
}
